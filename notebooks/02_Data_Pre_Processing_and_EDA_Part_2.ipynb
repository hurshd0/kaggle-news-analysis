{
 "cells": [
  {
   "cell_type": "code",
   "execution_count": 1,
   "metadata": {},
   "outputs": [],
   "source": [
    "%matplotlib inline\n",
    "# For auto-reload\n",
    "%load_ext autoreload\n",
    "%autoreload 2"
   ]
  },
  {
   "cell_type": "code",
   "execution_count": 2,
   "metadata": {},
   "outputs": [
    {
     "name": "stderr",
     "output_type": "stream",
     "text": [
      "/home/ubuntu/.local/share/virtualenvs/kaggle-news-analysis-E_e02zD4/lib/python3.8/site-packages/tqdm/std.py:668: FutureWarning: The Panel class is removed from pandas. Accessing it from the top-level namespace will also be removed in the next version\n",
      "  from pandas import Panel\n"
     ]
    }
   ],
   "source": [
    "# ----------------- Classics -------------------- #\n",
    "import numpy as np\n",
    "import pandas as pd\n",
    "\n",
    "# ------------------- Plotting ------------------- #\n",
    "import squarify\n",
    "import matplotlib.pyplot as plt\n",
    "import seaborn as sns\n",
    "sns.set()\n",
    "plt.style.use('fivethirtyeight')\n",
    "\n",
    "# ---------------- Pandas settings --------------- #\n",
    "# Removes rows and columns truncation of '...'\n",
    "pd.set_option('display.max_rows', 200)\n",
    "pd.set_option('display.max_columns', 200)\n",
    "\n",
    "# ------------------- Python libs ---------------- #\n",
    "import os\n",
    "from pathlib import Path\n",
    "import re\n",
    "import sys\n",
    "ROOT_PATH = Path().resolve().parent\n",
    "sys.path.append(str(ROOT_PATH)) # Add folder root path\n",
    "\n",
    "from tqdm import tqdm\n",
    "tqdm.pandas()\n",
    "\n",
    "import warnings\n",
    "warnings.filterwarnings(action='ignore')"
   ]
  },
  {
   "cell_type": "markdown",
   "metadata": {},
   "source": [
    "## 1. Load dataset"
   ]
  },
  {
   "cell_type": "code",
   "execution_count": 3,
   "metadata": {},
   "outputs": [
    {
     "data": {
      "text/html": [
       "<div>\n",
       "<style scoped>\n",
       "    .dataframe tbody tr th:only-of-type {\n",
       "        vertical-align: middle;\n",
       "    }\n",
       "\n",
       "    .dataframe tbody tr th {\n",
       "        vertical-align: top;\n",
       "    }\n",
       "\n",
       "    .dataframe thead th {\n",
       "        text-align: right;\n",
       "    }\n",
       "</style>\n",
       "<table border=\"1\" class=\"dataframe\">\n",
       "  <thead>\n",
       "    <tr style=\"text-align: right;\">\n",
       "      <th></th>\n",
       "      <th>title</th>\n",
       "      <th>publication</th>\n",
       "      <th>date</th>\n",
       "      <th>content</th>\n",
       "    </tr>\n",
       "  </thead>\n",
       "  <tbody>\n",
       "    <tr>\n",
       "      <th>0</th>\n",
       "      <td>House Republicans Fret About Winning Their Hea...</td>\n",
       "      <td>New York Times</td>\n",
       "      <td>2016-12-31</td>\n",
       "      <td>WASHINGTON — Congressional Republicans have a ...</td>\n",
       "    </tr>\n",
       "    <tr>\n",
       "      <th>1</th>\n",
       "      <td>Rift Between Officers and Residents as Killing...</td>\n",
       "      <td>New York Times</td>\n",
       "      <td>2017-06-19</td>\n",
       "      <td>After the bullet shells get counted, the blood...</td>\n",
       "    </tr>\n",
       "    <tr>\n",
       "      <th>2</th>\n",
       "      <td>Tyrus Wong, ‘Bambi’ Artist Thwarted by Racial ...</td>\n",
       "      <td>New York Times</td>\n",
       "      <td>2017-01-06</td>\n",
       "      <td>When Walt Disney’s “Bambi” opened in 1942, cri...</td>\n",
       "    </tr>\n",
       "    <tr>\n",
       "      <th>3</th>\n",
       "      <td>Among Deaths in 2016, a Heavy Toll in Pop Musi...</td>\n",
       "      <td>New York Times</td>\n",
       "      <td>2017-04-10</td>\n",
       "      <td>Death may be the great equalizer, but it isn’t...</td>\n",
       "    </tr>\n",
       "    <tr>\n",
       "      <th>4</th>\n",
       "      <td>Kim Jong-un Says North Korea Is Preparing to T...</td>\n",
       "      <td>New York Times</td>\n",
       "      <td>2017-01-02</td>\n",
       "      <td>SEOUL, South Korea — North Korea’s leader, Kim...</td>\n",
       "    </tr>\n",
       "  </tbody>\n",
       "</table>\n",
       "</div>"
      ],
      "text/plain": [
       "                                               title     publication  \\\n",
       "0  House Republicans Fret About Winning Their Hea...  New York Times   \n",
       "1  Rift Between Officers and Residents as Killing...  New York Times   \n",
       "2  Tyrus Wong, ‘Bambi’ Artist Thwarted by Racial ...  New York Times   \n",
       "3  Among Deaths in 2016, a Heavy Toll in Pop Musi...  New York Times   \n",
       "4  Kim Jong-un Says North Korea Is Preparing to T...  New York Times   \n",
       "\n",
       "        date                                            content  \n",
       "0 2016-12-31  WASHINGTON — Congressional Republicans have a ...  \n",
       "1 2017-06-19  After the bullet shells get counted, the blood...  \n",
       "2 2017-01-06  When Walt Disney’s “Bambi” opened in 1942, cri...  \n",
       "3 2017-04-10  Death may be the great equalizer, but it isn’t...  \n",
       "4 2017-01-02  SEOUL, South Korea — North Korea’s leader, Kim...  "
      ]
     },
     "execution_count": 3,
     "metadata": {},
     "output_type": "execute_result"
    }
   ],
   "source": [
    "articles = pd.read_csv(ROOT_PATH.joinpath(f\"data/cleaned_data/cleaned_articles.csv\"), parse_dates=[\"date\"])\n",
    "articles.head()"
   ]
  },
  {
   "cell_type": "code",
   "execution_count": 4,
   "metadata": {},
   "outputs": [
    {
     "name": "stdout",
     "output_type": "stream",
     "text": [
      "<class 'pandas.core.frame.DataFrame'>\n",
      "RangeIndex: 142023 entries, 0 to 142022\n",
      "Data columns (total 4 columns):\n",
      " #   Column       Non-Null Count   Dtype         \n",
      "---  ------       --------------   -----         \n",
      " 0   title        142007 non-null  object        \n",
      " 1   publication  142023 non-null  object        \n",
      " 2   date         139387 non-null  datetime64[ns]\n",
      " 3   content      142023 non-null  object        \n",
      "dtypes: datetime64[ns](1), object(3)\n",
      "memory usage: 4.3+ MB\n"
     ]
    }
   ],
   "source": [
    "articles.info()"
   ]
  },
  {
   "cell_type": "code",
   "execution_count": 5,
   "metadata": {},
   "outputs": [
    {
     "data": {
      "text/plain": [
       "title            16\n",
       "publication       0\n",
       "date           2636\n",
       "content           0\n",
       "dtype: int64"
      ]
     },
     "execution_count": 5,
     "metadata": {},
     "output_type": "execute_result"
    }
   ],
   "source": [
    "articles.isnull().sum()"
   ]
  },
  {
   "cell_type": "markdown",
   "metadata": {},
   "source": [
    "Let's look at how many articles we have and what year range articles are in."
   ]
  },
  {
   "cell_type": "code",
   "execution_count": 6,
   "metadata": {},
   "outputs": [
    {
     "name": "stdout",
     "output_type": "stream",
     "text": [
      "This dataset contains 142023 articles written between 2000 and 2017.\n"
     ]
    }
   ],
   "source": [
    "print(f\"This dataset contains {len(articles)} articles written between {int(articles.date.dt.year.min())} and {int(articles.date.dt.year.max())}.\")"
   ]
  },
  {
   "cell_type": "markdown",
   "metadata": {},
   "source": [
    "## 2. Do statistical explorations"
   ]
  },
  {
   "cell_type": "markdown",
   "metadata": {},
   "source": [
    "### Article count by publication"
   ]
  },
  {
   "cell_type": "code",
   "execution_count": 7,
   "metadata": {},
   "outputs": [
    {
     "data": {
      "image/png": "[encoded data removed]",
      "text/plain": [
       "<Figure size 864x576 with 1 Axes>"
      ]
     },
     "metadata": {},
     "output_type": "display_data"
    }
   ],
   "source": [
    "ax = articles['publication'].value_counts().plot(kind='bar', fontsize=14, figsize=(12,8))\n",
    "ax.set_title('Article Count \\n', fontsize=20)\n",
    "ax.set_xlabel('Publication', fontsize=18)\n",
    "ax.set_ylabel('Count', fontsize=18)\n",
    "plt.tight_layout()"
   ]
  },
  {
   "cell_type": "markdown",
   "metadata": {},
   "source": [
    "Looks like Breitbart, followed by New York Post and NPR make up the larget number of articles in our dataset, while Vox, BuzzFeed and Fox News make fewest."
   ]
  },
  {
   "cell_type": "markdown",
   "metadata": {},
   "source": [
    "### Length of articles"
   ]
  },
  {
   "cell_type": "code",
   "execution_count": 8,
   "metadata": {},
   "outputs": [
    {
     "data": {
      "image/png": "[encoded data removed]",
      "text/plain": [
       "<Figure size 864x432 with 1 Axes>"
      ]
     },
     "metadata": {},
     "output_type": "display_data"
    }
   ],
   "source": [
    "ax = articles[\"content\"].apply(len).plot(kind=\"hist\", bins=50, fontsize=14, figsize=(12, 6))\n",
    "ax.set_title(\"Length of article\")\n",
    "ax.set_xlabel('Length of a sample')\n",
    "ax.set_ylabel('Number of samples (log)')\n",
    "ax.set_yscale(\"log\")\n",
    "plt.tight_layout()"
   ]
  },
  {
   "cell_type": "markdown",
   "metadata": {},
   "source": [
    "Some of the articles are really big, while most fall below 20000 characters, let's clean the text more and remove any punctuations, lowercase it and keep alphanumeric characters."
   ]
  },
  {
   "cell_type": "code",
   "execution_count": 9,
   "metadata": {},
   "outputs": [
    {
     "name": "stdout",
     "output_type": "stream",
     "text": [
      "Average length of article is: 4376.73\n"
     ]
    }
   ],
   "source": [
    "print(\"Average length of article is: {:.2f}\".format(articles[\"content\"].apply(len).mean()))"
   ]
  },
  {
   "cell_type": "markdown",
   "metadata": {},
   "source": [
    "### Limit the analysis to 2015-2017"
   ]
  },
  {
   "cell_type": "code",
   "execution_count": 10,
   "metadata": {},
   "outputs": [
    {
     "data": {
      "text/plain": [
       "2016.0    60.969818\n",
       "2017.0    36.077253\n",
       "2015.0     2.656632\n",
       "2013.0     0.163573\n",
       "2014.0     0.088961\n",
       "2012.0     0.024393\n",
       "2011.0     0.005739\n",
       "2010.0     0.004305\n",
       "2009.0     0.002152\n",
       "2008.0     0.001435\n",
       "2005.0     0.001435\n",
       "2004.0     0.001435\n",
       "2003.0     0.001435\n",
       "2007.0     0.000717\n",
       "2000.0     0.000717\n",
       "Name: date, dtype: float64"
      ]
     },
     "execution_count": 10,
     "metadata": {},
     "output_type": "execute_result"
    }
   ],
   "source": [
    "articles.date.dt.year.value_counts(normalize=True) * 100"
   ]
  },
  {
   "cell_type": "markdown",
   "metadata": {},
   "source": [
    "We can see:\n",
    "\n",
    "- 2016 - 2017 make up ~ 97% of the content\n",
    "- 2015-2017 make up ~ 99.7% of content \n",
    "\n",
    "and rest are below 1% so we can limit our analysis to 2015-2017."
   ]
  },
  {
   "cell_type": "code",
   "execution_count": 11,
   "metadata": {},
   "outputs": [
    {
     "data": {
      "text/plain": [
       "2016    61.151007\n",
       "2017    36.184466\n",
       "2015     2.664527\n",
       "Name: date, dtype: float64"
      ]
     },
     "execution_count": 11,
     "metadata": {},
     "output_type": "execute_result"
    }
   ],
   "source": [
    "articles = articles[articles.date.dt.year >= 2015]\n",
    "articles.date.dt.year.value_counts(normalize=True) * 100"
   ]
  },
  {
   "cell_type": "code",
   "execution_count": 12,
   "metadata": {},
   "outputs": [
    {
     "name": "stdout",
     "output_type": "stream",
     "text": [
      "(138974, 4)\n"
     ]
    }
   ],
   "source": [
    "print(articles.shape)"
   ]
  },
  {
   "cell_type": "markdown",
   "metadata": {},
   "source": [
    "### Scrub unnecessary punctuations"
   ]
  },
  {
   "cell_type": "code",
   "execution_count": 13,
   "metadata": {},
   "outputs": [
    {
     "data": {
      "text/plain": [
       "'this function removes nonascii punctuations lowercases double white spaces digits and trailing white spaces'"
      ]
     },
     "execution_count": 13,
     "metadata": {},
     "output_type": "execute_result"
    }
   ],
   "source": [
    "import string\n",
    "\n",
    "def scrub_words(text, lower=True, punct=True, non_ascii=True, az_chars=True, digit=True, strip_whitespaces=True, double_whitespace=True):\n",
    "    \"\"\"\n",
    "    Removes punctuation and converts all the text to lower case, removes digits and non-ascii characters\n",
    "    \"\"\"\n",
    "    if not type(text) == str:\n",
    "        return text\n",
    "    \n",
    "    # lowercase text\n",
    "    if lower:\n",
    "        text = text.lower()\n",
    "    \n",
    "    # remove punctuations\n",
    "    if punct:\n",
    "        text = re.sub(r'['+string.punctuation + '’—”'+']', \"\", text)\n",
    "    \n",
    "    # remove non ascii\n",
    "    if non_ascii:\n",
    "        text =  re.sub(\"\\W\",\" \",text)\n",
    "    \n",
    "    # removes foreign language\n",
    "    if az_chars:\n",
    "        text = re.sub(\"[^a-zA-Z]\", \" \", text)\n",
    "        \n",
    "    # removes digits\n",
    "    if digit:\n",
    "        text = re.sub(\"\\d\", \" \", text)\n",
    "    \n",
    "    # replaces double whitespaces with single whitespace\n",
    "    if double_whitespace:\n",
    "        text =  re.sub('\\s{2,}', ' ', text)\n",
    "    \n",
    "    # strip whitespaces from front and back\n",
    "    text = text.strip()\n",
    "    \n",
    "    return text\n",
    "\n",
    "# Test it out there are some foreign languages words in it\n",
    "txt = \" This function removes non-ascii 😀, punctuations @#$!, LOWERCASES, double  white  spaces  , $1234.00 digits, and trailing white spaces  \"\n",
    "scrub_words(txt)"
   ]
  },
  {
   "cell_type": "markdown",
   "metadata": {},
   "source": [
    "### Apply text pre-processing to `title` and `content`"
   ]
  },
  {
   "cell_type": "code",
   "execution_count": 14,
   "metadata": {},
   "outputs": [
    {
     "name": "stderr",
     "output_type": "stream",
     "text": [
      "100%|██████████| 138974/138974 [01:48<00:00, 1284.81it/s]\n",
      "100%|██████████| 138974/138974 [00:02<00:00, 46878.36it/s]\n",
      "100%|██████████| 138974/138974 [00:01<00:00, 97131.72it/s] \n"
     ]
    },
    {
     "data": {
      "text/html": [
       "<div>\n",
       "<style scoped>\n",
       "    .dataframe tbody tr th:only-of-type {\n",
       "        vertical-align: middle;\n",
       "    }\n",
       "\n",
       "    .dataframe tbody tr th {\n",
       "        vertical-align: top;\n",
       "    }\n",
       "\n",
       "    .dataframe thead th {\n",
       "        text-align: right;\n",
       "    }\n",
       "</style>\n",
       "<table border=\"1\" class=\"dataframe\">\n",
       "  <thead>\n",
       "    <tr style=\"text-align: right;\">\n",
       "      <th></th>\n",
       "      <th>title</th>\n",
       "      <th>publication</th>\n",
       "      <th>date</th>\n",
       "      <th>content</th>\n",
       "      <th>cleaned_content</th>\n",
       "      <th>cleaned_title</th>\n",
       "    </tr>\n",
       "  </thead>\n",
       "  <tbody>\n",
       "    <tr>\n",
       "      <th>0</th>\n",
       "      <td>House Republicans Fret About Winning Their Hea...</td>\n",
       "      <td>new york times</td>\n",
       "      <td>2016-12-31</td>\n",
       "      <td>WASHINGTON — Congressional Republicans have a ...</td>\n",
       "      <td>washington congressional republicans have a ne...</td>\n",
       "      <td>house republicans fret about winning their hea...</td>\n",
       "    </tr>\n",
       "    <tr>\n",
       "      <th>1</th>\n",
       "      <td>Rift Between Officers and Residents as Killing...</td>\n",
       "      <td>new york times</td>\n",
       "      <td>2017-06-19</td>\n",
       "      <td>After the bullet shells get counted, the blood...</td>\n",
       "      <td>after the bullet shells get counted the blood ...</td>\n",
       "      <td>rift between officers and residents as killing...</td>\n",
       "    </tr>\n",
       "    <tr>\n",
       "      <th>2</th>\n",
       "      <td>Tyrus Wong, ‘Bambi’ Artist Thwarted by Racial ...</td>\n",
       "      <td>new york times</td>\n",
       "      <td>2017-01-06</td>\n",
       "      <td>When Walt Disney’s “Bambi” opened in 1942, cri...</td>\n",
       "      <td>when walt disneys bambi opened in critics prai...</td>\n",
       "      <td>tyrus wong bambi artist thwarted by racial bia...</td>\n",
       "    </tr>\n",
       "    <tr>\n",
       "      <th>3</th>\n",
       "      <td>Among Deaths in 2016, a Heavy Toll in Pop Musi...</td>\n",
       "      <td>new york times</td>\n",
       "      <td>2017-04-10</td>\n",
       "      <td>Death may be the great equalizer, but it isn’t...</td>\n",
       "      <td>death may be the great equalizer but it isnt n...</td>\n",
       "      <td>among deaths in a heavy toll in pop music the ...</td>\n",
       "    </tr>\n",
       "    <tr>\n",
       "      <th>4</th>\n",
       "      <td>Kim Jong-un Says North Korea Is Preparing to T...</td>\n",
       "      <td>new york times</td>\n",
       "      <td>2017-01-02</td>\n",
       "      <td>SEOUL, South Korea — North Korea’s leader, Kim...</td>\n",
       "      <td>seoul south korea north koreas leader kim said...</td>\n",
       "      <td>kim jongun says north korea is preparing to te...</td>\n",
       "    </tr>\n",
       "  </tbody>\n",
       "</table>\n",
       "</div>"
      ],
      "text/plain": [
       "                                               title     publication  \\\n",
       "0  House Republicans Fret About Winning Their Hea...  new york times   \n",
       "1  Rift Between Officers and Residents as Killing...  new york times   \n",
       "2  Tyrus Wong, ‘Bambi’ Artist Thwarted by Racial ...  new york times   \n",
       "3  Among Deaths in 2016, a Heavy Toll in Pop Musi...  new york times   \n",
       "4  Kim Jong-un Says North Korea Is Preparing to T...  new york times   \n",
       "\n",
       "        date                                            content  \\\n",
       "0 2016-12-31  WASHINGTON — Congressional Republicans have a ...   \n",
       "1 2017-06-19  After the bullet shells get counted, the blood...   \n",
       "2 2017-01-06  When Walt Disney’s “Bambi” opened in 1942, cri...   \n",
       "3 2017-04-10  Death may be the great equalizer, but it isn’t...   \n",
       "4 2017-01-02  SEOUL, South Korea — North Korea’s leader, Kim...   \n",
       "\n",
       "                                     cleaned_content  \\\n",
       "0  washington congressional republicans have a ne...   \n",
       "1  after the bullet shells get counted the blood ...   \n",
       "2  when walt disneys bambi opened in critics prai...   \n",
       "3  death may be the great equalizer but it isnt n...   \n",
       "4  seoul south korea north koreas leader kim said...   \n",
       "\n",
       "                                       cleaned_title  \n",
       "0  house republicans fret about winning their hea...  \n",
       "1  rift between officers and residents as killing...  \n",
       "2  tyrus wong bambi artist thwarted by racial bia...  \n",
       "3  among deaths in a heavy toll in pop music the ...  \n",
       "4  kim jongun says north korea is preparing to te...  "
      ]
     },
     "execution_count": 14,
     "metadata": {},
     "output_type": "execute_result"
    }
   ],
   "source": [
    "articles[\"cleaned_content\"] = articles[\"content\"].progress_apply(scrub_words)\n",
    "articles[\"cleaned_title\"] = articles[\"title\"].progress_apply(scrub_words)\n",
    "articles[\"publication\"] = articles[\"publication\"].progress_apply(scrub_words)\n",
    "articles.head()"
   ]
  },
  {
   "cell_type": "code",
   "execution_count": 15,
   "metadata": {},
   "outputs": [
    {
     "data": {
      "text/plain": [
       "title              16\n",
       "publication         0\n",
       "date                0\n",
       "content             0\n",
       "cleaned_content     0\n",
       "cleaned_title      16\n",
       "dtype: int64"
      ]
     },
     "execution_count": 15,
     "metadata": {},
     "output_type": "execute_result"
    }
   ],
   "source": [
    "articles.isnull().sum()"
   ]
  },
  {
   "cell_type": "markdown",
   "metadata": {},
   "source": [
    "### Remove pubs"
   ]
  },
  {
   "cell_type": "markdown",
   "metadata": {},
   "source": [
    "Since we already have a `publisher` keeping that information is redudant that is added on the article headlines, and adds noise to our corpus."
   ]
  },
  {
   "cell_type": "code",
   "execution_count": 16,
   "metadata": {},
   "outputs": [
    {
     "name": "stdout",
     "output_type": "stream",
     "text": [
      "['new york times' 'breitbart' 'cnn' 'business insider' 'atlantic'\n",
      " 'fox news' 'talking points memo' 'buzzfeed news' 'national review'\n",
      " 'new york post' 'guardian' 'npr' 'reuters' 'vox' 'washington post']\n"
     ]
    }
   ],
   "source": [
    "PUBS = articles[\"publication\"].unique()\n",
    "print(PUBS)"
   ]
  },
  {
   "cell_type": "code",
   "execution_count": 17,
   "metadata": {},
   "outputs": [
    {
     "name": "stderr",
     "output_type": "stream",
     "text": [
      "100%|██████████| 138974/138974 [00:03<00:00, 40122.38it/s]\n",
      "100%|██████████| 138974/138974 [00:15<00:00, 8833.20it/s]\n"
     ]
    },
    {
     "data": {
      "text/html": [
       "<div>\n",
       "<style scoped>\n",
       "    .dataframe tbody tr th:only-of-type {\n",
       "        vertical-align: middle;\n",
       "    }\n",
       "\n",
       "    .dataframe tbody tr th {\n",
       "        vertical-align: top;\n",
       "    }\n",
       "\n",
       "    .dataframe thead th {\n",
       "        text-align: right;\n",
       "    }\n",
       "</style>\n",
       "<table border=\"1\" class=\"dataframe\">\n",
       "  <thead>\n",
       "    <tr style=\"text-align: right;\">\n",
       "      <th></th>\n",
       "      <th>title</th>\n",
       "      <th>publication</th>\n",
       "      <th>date</th>\n",
       "      <th>content</th>\n",
       "      <th>cleaned_content</th>\n",
       "      <th>cleaned_title</th>\n",
       "    </tr>\n",
       "  </thead>\n",
       "  <tbody>\n",
       "    <tr>\n",
       "      <th>0</th>\n",
       "      <td>House Republicans Fret About Winning Their Hea...</td>\n",
       "      <td>new york times</td>\n",
       "      <td>2016-12-31</td>\n",
       "      <td>WASHINGTON — Congressional Republicans have a ...</td>\n",
       "      <td>washington congressional republicans have a ne...</td>\n",
       "      <td>house republicans fret about winning their hea...</td>\n",
       "    </tr>\n",
       "    <tr>\n",
       "      <th>1</th>\n",
       "      <td>Rift Between Officers and Residents as Killing...</td>\n",
       "      <td>new york times</td>\n",
       "      <td>2017-06-19</td>\n",
       "      <td>After the bullet shells get counted, the blood...</td>\n",
       "      <td>after the bullet shells get counted the blood ...</td>\n",
       "      <td>rift between officers and residents as killing...</td>\n",
       "    </tr>\n",
       "    <tr>\n",
       "      <th>2</th>\n",
       "      <td>Tyrus Wong, ‘Bambi’ Artist Thwarted by Racial ...</td>\n",
       "      <td>new york times</td>\n",
       "      <td>2017-01-06</td>\n",
       "      <td>When Walt Disney’s “Bambi” opened in 1942, cri...</td>\n",
       "      <td>when walt disneys bambi opened in critics prai...</td>\n",
       "      <td>tyrus wong bambi artist thwarted by racial bia...</td>\n",
       "    </tr>\n",
       "    <tr>\n",
       "      <th>3</th>\n",
       "      <td>Among Deaths in 2016, a Heavy Toll in Pop Musi...</td>\n",
       "      <td>new york times</td>\n",
       "      <td>2017-04-10</td>\n",
       "      <td>Death may be the great equalizer, but it isn’t...</td>\n",
       "      <td>death may be the great equalizer but it isnt n...</td>\n",
       "      <td>among deaths in a heavy toll in pop music the</td>\n",
       "    </tr>\n",
       "    <tr>\n",
       "      <th>4</th>\n",
       "      <td>Kim Jong-un Says North Korea Is Preparing to T...</td>\n",
       "      <td>new york times</td>\n",
       "      <td>2017-01-02</td>\n",
       "      <td>SEOUL, South Korea — North Korea’s leader, Kim...</td>\n",
       "      <td>seoul south korea north koreas leader kim said...</td>\n",
       "      <td>kim jongun says north korea is preparing to te...</td>\n",
       "    </tr>\n",
       "  </tbody>\n",
       "</table>\n",
       "</div>"
      ],
      "text/plain": [
       "                                               title     publication  \\\n",
       "0  House Republicans Fret About Winning Their Hea...  new york times   \n",
       "1  Rift Between Officers and Residents as Killing...  new york times   \n",
       "2  Tyrus Wong, ‘Bambi’ Artist Thwarted by Racial ...  new york times   \n",
       "3  Among Deaths in 2016, a Heavy Toll in Pop Musi...  new york times   \n",
       "4  Kim Jong-un Says North Korea Is Preparing to T...  new york times   \n",
       "\n",
       "        date                                            content  \\\n",
       "0 2016-12-31  WASHINGTON — Congressional Republicans have a ...   \n",
       "1 2017-06-19  After the bullet shells get counted, the blood...   \n",
       "2 2017-01-06  When Walt Disney’s “Bambi” opened in 1942, cri...   \n",
       "3 2017-04-10  Death may be the great equalizer, but it isn’t...   \n",
       "4 2017-01-02  SEOUL, South Korea — North Korea’s leader, Kim...   \n",
       "\n",
       "                                     cleaned_content  \\\n",
       "0  washington congressional republicans have a ne...   \n",
       "1  after the bullet shells get counted the blood ...   \n",
       "2  when walt disneys bambi opened in critics prai...   \n",
       "3  death may be the great equalizer but it isnt n...   \n",
       "4  seoul south korea north koreas leader kim said...   \n",
       "\n",
       "                                       cleaned_title  \n",
       "0  house republicans fret about winning their hea...  \n",
       "1  rift between officers and residents as killing...  \n",
       "2  tyrus wong bambi artist thwarted by racial bia...  \n",
       "3      among deaths in a heavy toll in pop music the  \n",
       "4  kim jongun says north korea is preparing to te...  "
      ]
     },
     "execution_count": 17,
     "metadata": {},
     "output_type": "execute_result"
    }
   ],
   "source": [
    "def remove_pubs(text):\n",
    "    if type(text) == str:\n",
    "        for pub in PUBS:\n",
    "            text = re.sub(pub.strip(), \"\", text)\n",
    "            text = text.strip()\n",
    "        return text\n",
    "    else:\n",
    "        return text\n",
    "articles[\"cleaned_title\"] = articles[\"cleaned_title\"].progress_apply(remove_pubs)\n",
    "articles[\"cleaned_content\"] = articles[\"cleaned_content\"].progress_apply(remove_pubs)\n",
    "articles.head()"
   ]
  },
  {
   "cell_type": "markdown",
   "metadata": {},
   "source": [
    "### Sample word count distribution"
   ]
  },
  {
   "cell_type": "code",
   "execution_count": 18,
   "metadata": {},
   "outputs": [
    {
     "name": "stderr",
     "output_type": "stream",
     "text": [
      "100%|██████████| 138974/138974 [00:07<00:00, 18137.66it/s]\n"
     ]
    },
    {
     "data": {
      "text/html": [
       "<div>\n",
       "<style scoped>\n",
       "    .dataframe tbody tr th:only-of-type {\n",
       "        vertical-align: middle;\n",
       "    }\n",
       "\n",
       "    .dataframe tbody tr th {\n",
       "        vertical-align: top;\n",
       "    }\n",
       "\n",
       "    .dataframe thead th {\n",
       "        text-align: right;\n",
       "    }\n",
       "</style>\n",
       "<table border=\"1\" class=\"dataframe\">\n",
       "  <thead>\n",
       "    <tr style=\"text-align: right;\">\n",
       "      <th></th>\n",
       "      <th>title</th>\n",
       "      <th>publication</th>\n",
       "      <th>date</th>\n",
       "      <th>content</th>\n",
       "      <th>cleaned_content</th>\n",
       "      <th>cleaned_title</th>\n",
       "      <th>number_of_words</th>\n",
       "    </tr>\n",
       "  </thead>\n",
       "  <tbody>\n",
       "    <tr>\n",
       "      <th>0</th>\n",
       "      <td>House Republicans Fret About Winning Their Hea...</td>\n",
       "      <td>new york times</td>\n",
       "      <td>2016-12-31</td>\n",
       "      <td>WASHINGTON — Congressional Republicans have a ...</td>\n",
       "      <td>washington congressional republicans have a ne...</td>\n",
       "      <td>house republicans fret about winning their hea...</td>\n",
       "      <td>871</td>\n",
       "    </tr>\n",
       "    <tr>\n",
       "      <th>1</th>\n",
       "      <td>Rift Between Officers and Residents as Killing...</td>\n",
       "      <td>new york times</td>\n",
       "      <td>2017-06-19</td>\n",
       "      <td>After the bullet shells get counted, the blood...</td>\n",
       "      <td>after the bullet shells get counted the blood ...</td>\n",
       "      <td>rift between officers and residents as killing...</td>\n",
       "      <td>4661</td>\n",
       "    </tr>\n",
       "    <tr>\n",
       "      <th>2</th>\n",
       "      <td>Tyrus Wong, ‘Bambi’ Artist Thwarted by Racial ...</td>\n",
       "      <td>new york times</td>\n",
       "      <td>2017-01-06</td>\n",
       "      <td>When Walt Disney’s “Bambi” opened in 1942, cri...</td>\n",
       "      <td>when walt disneys bambi opened in critics prai...</td>\n",
       "      <td>tyrus wong bambi artist thwarted by racial bia...</td>\n",
       "      <td>2308</td>\n",
       "    </tr>\n",
       "    <tr>\n",
       "      <th>3</th>\n",
       "      <td>Among Deaths in 2016, a Heavy Toll in Pop Musi...</td>\n",
       "      <td>new york times</td>\n",
       "      <td>2017-04-10</td>\n",
       "      <td>Death may be the great equalizer, but it isn’t...</td>\n",
       "      <td>death may be the great equalizer but it isnt n...</td>\n",
       "      <td>among deaths in a heavy toll in pop music the</td>\n",
       "      <td>2086</td>\n",
       "    </tr>\n",
       "    <tr>\n",
       "      <th>4</th>\n",
       "      <td>Kim Jong-un Says North Korea Is Preparing to T...</td>\n",
       "      <td>new york times</td>\n",
       "      <td>2017-01-02</td>\n",
       "      <td>SEOUL, South Korea — North Korea’s leader, Kim...</td>\n",
       "      <td>seoul south korea north koreas leader kim said...</td>\n",
       "      <td>kim jongun says north korea is preparing to te...</td>\n",
       "      <td>679</td>\n",
       "    </tr>\n",
       "  </tbody>\n",
       "</table>\n",
       "</div>"
      ],
      "text/plain": [
       "                                               title     publication  \\\n",
       "0  House Republicans Fret About Winning Their Hea...  new york times   \n",
       "1  Rift Between Officers and Residents as Killing...  new york times   \n",
       "2  Tyrus Wong, ‘Bambi’ Artist Thwarted by Racial ...  new york times   \n",
       "3  Among Deaths in 2016, a Heavy Toll in Pop Musi...  new york times   \n",
       "4  Kim Jong-un Says North Korea Is Preparing to T...  new york times   \n",
       "\n",
       "        date                                            content  \\\n",
       "0 2016-12-31  WASHINGTON — Congressional Republicans have a ...   \n",
       "1 2017-06-19  After the bullet shells get counted, the blood...   \n",
       "2 2017-01-06  When Walt Disney’s “Bambi” opened in 1942, cri...   \n",
       "3 2017-04-10  Death may be the great equalizer, but it isn’t...   \n",
       "4 2017-01-02  SEOUL, South Korea — North Korea’s leader, Kim...   \n",
       "\n",
       "                                     cleaned_content  \\\n",
       "0  washington congressional republicans have a ne...   \n",
       "1  after the bullet shells get counted the blood ...   \n",
       "2  when walt disneys bambi opened in critics prai...   \n",
       "3  death may be the great equalizer but it isnt n...   \n",
       "4  seoul south korea north koreas leader kim said...   \n",
       "\n",
       "                                       cleaned_title  number_of_words  \n",
       "0  house republicans fret about winning their hea...              871  \n",
       "1  rift between officers and residents as killing...             4661  \n",
       "2  tyrus wong bambi artist thwarted by racial bia...             2308  \n",
       "3      among deaths in a heavy toll in pop music the             2086  \n",
       "4  kim jongun says north korea is preparing to te...              679  "
      ]
     },
     "execution_count": 18,
     "metadata": {},
     "output_type": "execute_result"
    }
   ],
   "source": [
    "articles[\"number_of_words\"] = articles[\"cleaned_content\"].progress_apply(lambda x: len(x.split()))\n",
    "articles.head()"
   ]
  },
  {
   "cell_type": "code",
   "execution_count": 19,
   "metadata": {},
   "outputs": [
    {
     "data": {
      "text/plain": [
       "count    138974.000000\n",
       "mean        727.820283\n",
       "std         737.015556\n",
       "min           0.000000\n",
       "25%         336.000000\n",
       "50%         582.000000\n",
       "75%         905.000000\n",
       "max       49547.000000\n",
       "Name: number_of_words, dtype: float64"
      ]
     },
     "execution_count": 19,
     "metadata": {},
     "output_type": "execute_result"
    }
   ],
   "source": [
    "articles[\"number_of_words\"].describe()"
   ]
  },
  {
   "cell_type": "code",
   "execution_count": 20,
   "metadata": {
    "scrolled": false
   },
   "outputs": [
    {
     "data": {
      "image/png": "[encoded data removed]",
      "text/plain": [
       "<Figure size 864x432 with 1 Axes>"
      ]
     },
     "metadata": {},
     "output_type": "display_data"
    }
   ],
   "source": [
    "ax = articles[\"number_of_words\"].plot(kind=\"hist\", bins=50, fontsize=14, figsize=(12, 6))\n",
    "ax.set_title(\"Sample Word Distribution of Articles\")\n",
    "ax.set_xlabel('Length of words in sample')\n",
    "ax.set_ylabel('Number of samples (log)')\n",
    "ax.set_yscale(\"log\")\n",
    "plt.tight_layout()"
   ]
  },
  {
   "cell_type": "markdown",
   "metadata": {},
   "source": [
    "Our mean samples / word is ~736, with max of ~ 50000 words long article, which we can trim and remove, and lowest is 0 words, which is mostly noise words we removed."
   ]
  },
  {
   "cell_type": "markdown",
   "metadata": {},
   "source": [
    "### Articles with few words \n",
    "\n",
    "Now let's count the words and check the articles with fewer words."
   ]
  },
  {
   "cell_type": "code",
   "execution_count": 21,
   "metadata": {},
   "outputs": [
    {
     "data": {
      "text/plain": [
       "4767      1\n",
       "5025      1\n",
       "2850      1\n",
       "4897      1\n",
       "4769      1\n",
       "       ... \n",
       "300     181\n",
       "467     181\n",
       "316     183\n",
       "464     183\n",
       "272     190\n",
       "Name: number_of_words, Length: 4223, dtype: int64"
      ]
     },
     "execution_count": 21,
     "metadata": {},
     "output_type": "execute_result"
    }
   ],
   "source": [
    "articles[\"number_of_words\"].value_counts(dropna=False, ascending=True)"
   ]
  },
  {
   "cell_type": "markdown",
   "metadata": {},
   "source": [
    "#### Articles with 0 words"
   ]
  },
  {
   "cell_type": "code",
   "execution_count": 22,
   "metadata": {},
   "outputs": [
    {
     "data": {
      "text/html": [
       "<div>\n",
       "<style scoped>\n",
       "    .dataframe tbody tr th:only-of-type {\n",
       "        vertical-align: middle;\n",
       "    }\n",
       "\n",
       "    .dataframe tbody tr th {\n",
       "        vertical-align: top;\n",
       "    }\n",
       "\n",
       "    .dataframe thead th {\n",
       "        text-align: right;\n",
       "    }\n",
       "</style>\n",
       "<table border=\"1\" class=\"dataframe\">\n",
       "  <thead>\n",
       "    <tr style=\"text-align: right;\">\n",
       "      <th></th>\n",
       "      <th>cleaned_content</th>\n",
       "      <th>cleaned_title</th>\n",
       "      <th>number_of_words</th>\n",
       "    </tr>\n",
       "  </thead>\n",
       "  <tbody>\n",
       "    <tr>\n",
       "      <th>43358</th>\n",
       "      <td></td>\n",
       "      <td>we tried kfcs latest take on a trendy regional...</td>\n",
       "      <td>0</td>\n",
       "    </tr>\n",
       "    <tr>\n",
       "      <th>43406</th>\n",
       "      <td></td>\n",
       "      <td>papa johns ceo america is on a path to becomin...</td>\n",
       "      <td>0</td>\n",
       "    </tr>\n",
       "    <tr>\n",
       "      <th>43465</th>\n",
       "      <td></td>\n",
       "      <td>how this astronaut overcame failure and reject...</td>\n",
       "      <td>0</td>\n",
       "    </tr>\n",
       "    <tr>\n",
       "      <th>43981</th>\n",
       "      <td></td>\n",
       "      <td>this man dropped out of college twice and now ...</td>\n",
       "      <td>0</td>\n",
       "    </tr>\n",
       "    <tr>\n",
       "      <th>44359</th>\n",
       "      <td></td>\n",
       "      <td>thousands march across the country demanding t...</td>\n",
       "      <td>0</td>\n",
       "    </tr>\n",
       "    <tr>\n",
       "      <th>44529</th>\n",
       "      <td></td>\n",
       "      <td>top financial adviser just working hard will n...</td>\n",
       "      <td>0</td>\n",
       "    </tr>\n",
       "    <tr>\n",
       "      <th>44872</th>\n",
       "      <td></td>\n",
       "      <td>listen to audio of a gop candidate from montan...</td>\n",
       "      <td>0</td>\n",
       "    </tr>\n",
       "    <tr>\n",
       "      <th>45225</th>\n",
       "      <td></td>\n",
       "      <td>mark hamill is keeping star wars fans from get...</td>\n",
       "      <td>0</td>\n",
       "    </tr>\n",
       "    <tr>\n",
       "      <th>45303</th>\n",
       "      <td></td>\n",
       "      <td>exercise headphones that will make it easier t...</td>\n",
       "      <td>0</td>\n",
       "    </tr>\n",
       "    <tr>\n",
       "      <th>45341</th>\n",
       "      <td></td>\n",
       "      <td>what this navy seals rule can teach you about ...</td>\n",
       "      <td>0</td>\n",
       "    </tr>\n",
       "    <tr>\n",
       "      <th>45391</th>\n",
       "      <td></td>\n",
       "      <td>morgan stanley says this underappreciated rest...</td>\n",
       "      <td>0</td>\n",
       "    </tr>\n",
       "    <tr>\n",
       "      <th>45401</th>\n",
       "      <td></td>\n",
       "      <td>a harvard psychologist says people judge you b...</td>\n",
       "      <td>0</td>\n",
       "    </tr>\n",
       "    <tr>\n",
       "      <th>45540</th>\n",
       "      <td></td>\n",
       "      <td>madonna cofounded a startup that manufactures ...</td>\n",
       "      <td>0</td>\n",
       "    </tr>\n",
       "    <tr>\n",
       "      <th>45578</th>\n",
       "      <td></td>\n",
       "      <td>bud light is making drastic changes to capture...</td>\n",
       "      <td>0</td>\n",
       "    </tr>\n",
       "    <tr>\n",
       "      <th>45656</th>\n",
       "      <td></td>\n",
       "      <td>this emerging restaurant chain is totally focu...</td>\n",
       "      <td>0</td>\n",
       "    </tr>\n",
       "    <tr>\n",
       "      <th>45869</th>\n",
       "      <td></td>\n",
       "      <td>director of oscarnominated cartel land on the ...</td>\n",
       "      <td>0</td>\n",
       "    </tr>\n",
       "    <tr>\n",
       "      <th>45873</th>\n",
       "      <td></td>\n",
       "      <td>sea levels are rising at the fastest rate in y...</td>\n",
       "      <td>0</td>\n",
       "    </tr>\n",
       "    <tr>\n",
       "      <th>47492</th>\n",
       "      <td></td>\n",
       "      <td>scientists predict that percent of these minia...</td>\n",
       "      <td>0</td>\n",
       "    </tr>\n",
       "    <tr>\n",
       "      <th>47556</th>\n",
       "      <td></td>\n",
       "      <td>what happened when the sam adams founder told ...</td>\n",
       "      <td>0</td>\n",
       "    </tr>\n",
       "    <tr>\n",
       "      <th>47871</th>\n",
       "      <td></td>\n",
       "      <td>real estate prices could drop by</td>\n",
       "      <td>0</td>\n",
       "    </tr>\n",
       "    <tr>\n",
       "      <th>47878</th>\n",
       "      <td></td>\n",
       "      <td>any of these gadgets will make your desk a mor...</td>\n",
       "      <td>0</td>\n",
       "    </tr>\n",
       "    <tr>\n",
       "      <th>48472</th>\n",
       "      <td></td>\n",
       "      <td>its like everythings being dumbeddown mark cub...</td>\n",
       "      <td>0</td>\n",
       "    </tr>\n",
       "    <tr>\n",
       "      <th>49241</th>\n",
       "      <td></td>\n",
       "      <td>alphabets chairman has an interesting position...</td>\n",
       "      <td>0</td>\n",
       "    </tr>\n",
       "    <tr>\n",
       "      <th>56905</th>\n",
       "      <td></td>\n",
       "      <td>atf guidance on who qualifies as a firearms de...</td>\n",
       "      <td>0</td>\n",
       "    </tr>\n",
       "    <tr>\n",
       "      <th>60415</th>\n",
       "      <td></td>\n",
       "      <td>fbi letter to congress on clinton email probe</td>\n",
       "      <td>0</td>\n",
       "    </tr>\n",
       "    <tr>\n",
       "      <th>72532</th>\n",
       "      <td></td>\n",
       "      <td>explosive revelation of obama administration i...</td>\n",
       "      <td>0</td>\n",
       "    </tr>\n",
       "    <tr>\n",
       "      <th>73028</th>\n",
       "      <td></td>\n",
       "      <td>obama and fdr set precedent for trumps oneman ...</td>\n",
       "      <td>0</td>\n",
       "    </tr>\n",
       "  </tbody>\n",
       "</table>\n",
       "</div>"
      ],
      "text/plain": [
       "      cleaned_content                                      cleaned_title  \\\n",
       "43358                  we tried kfcs latest take on a trendy regional...   \n",
       "43406                  papa johns ceo america is on a path to becomin...   \n",
       "43465                  how this astronaut overcame failure and reject...   \n",
       "43981                  this man dropped out of college twice and now ...   \n",
       "44359                  thousands march across the country demanding t...   \n",
       "44529                  top financial adviser just working hard will n...   \n",
       "44872                  listen to audio of a gop candidate from montan...   \n",
       "45225                  mark hamill is keeping star wars fans from get...   \n",
       "45303                  exercise headphones that will make it easier t...   \n",
       "45341                  what this navy seals rule can teach you about ...   \n",
       "45391                  morgan stanley says this underappreciated rest...   \n",
       "45401                  a harvard psychologist says people judge you b...   \n",
       "45540                  madonna cofounded a startup that manufactures ...   \n",
       "45578                  bud light is making drastic changes to capture...   \n",
       "45656                  this emerging restaurant chain is totally focu...   \n",
       "45869                  director of oscarnominated cartel land on the ...   \n",
       "45873                  sea levels are rising at the fastest rate in y...   \n",
       "47492                  scientists predict that percent of these minia...   \n",
       "47556                  what happened when the sam adams founder told ...   \n",
       "47871                                   real estate prices could drop by   \n",
       "47878                  any of these gadgets will make your desk a mor...   \n",
       "48472                  its like everythings being dumbeddown mark cub...   \n",
       "49241                  alphabets chairman has an interesting position...   \n",
       "56905                  atf guidance on who qualifies as a firearms de...   \n",
       "60415                      fbi letter to congress on clinton email probe   \n",
       "72532                  explosive revelation of obama administration i...   \n",
       "73028                  obama and fdr set precedent for trumps oneman ...   \n",
       "\n",
       "       number_of_words  \n",
       "43358                0  \n",
       "43406                0  \n",
       "43465                0  \n",
       "43981                0  \n",
       "44359                0  \n",
       "44529                0  \n",
       "44872                0  \n",
       "45225                0  \n",
       "45303                0  \n",
       "45341                0  \n",
       "45391                0  \n",
       "45401                0  \n",
       "45540                0  \n",
       "45578                0  \n",
       "45656                0  \n",
       "45869                0  \n",
       "45873                0  \n",
       "47492                0  \n",
       "47556                0  \n",
       "47871                0  \n",
       "47878                0  \n",
       "48472                0  \n",
       "49241                0  \n",
       "56905                0  \n",
       "60415                0  \n",
       "72532                0  \n",
       "73028                0  "
      ]
     },
     "execution_count": 22,
     "metadata": {},
     "output_type": "execute_result"
    }
   ],
   "source": [
    "articles[articles[\"number_of_words\"] == 0][[\"cleaned_content\", \"cleaned_title\", \"number_of_words\"]]"
   ]
  },
  {
   "cell_type": "code",
   "execution_count": 23,
   "metadata": {},
   "outputs": [
    {
     "name": "stdout",
     "output_type": "stream",
     "text": [
      "There are with 27 articles 0 words.\n"
     ]
    }
   ],
   "source": [
    "print(f\"There are with {len(articles[articles['number_of_words'] == 0])} articles 0 words.\")"
   ]
  },
  {
   "cell_type": "markdown",
   "metadata": {},
   "source": [
    "Since the article is missing normally we should stop and scrape it to fill the missing article content, but in this case we can just drop the rows."
   ]
  },
  {
   "cell_type": "code",
   "execution_count": 24,
   "metadata": {
    "scrolled": true
   },
   "outputs": [
    {
     "name": "stdout",
     "output_type": "stream",
     "text": [
      "<class 'pandas.core.frame.DataFrame'>\n",
      "Int64Index: 138947 entries, 0 to 142022\n",
      "Data columns (total 7 columns):\n",
      " #   Column           Non-Null Count   Dtype         \n",
      "---  ------           --------------   -----         \n",
      " 0   title            138931 non-null  object        \n",
      " 1   publication      138947 non-null  object        \n",
      " 2   date             138947 non-null  datetime64[ns]\n",
      " 3   content          138947 non-null  object        \n",
      " 4   cleaned_content  138947 non-null  object        \n",
      " 5   cleaned_title    138931 non-null  object        \n",
      " 6   number_of_words  138947 non-null  int64         \n",
      "dtypes: datetime64[ns](1), int64(1), object(5)\n",
      "memory usage: 8.5+ MB\n"
     ]
    }
   ],
   "source": [
    "articles = articles[articles[\"number_of_words\"] > 0]\n",
    "articles.info()"
   ]
  },
  {
   "cell_type": "code",
   "execution_count": 25,
   "metadata": {},
   "outputs": [
    {
     "data": {
      "text/html": [
       "<div>\n",
       "<style scoped>\n",
       "    .dataframe tbody tr th:only-of-type {\n",
       "        vertical-align: middle;\n",
       "    }\n",
       "\n",
       "    .dataframe tbody tr th {\n",
       "        vertical-align: top;\n",
       "    }\n",
       "\n",
       "    .dataframe thead th {\n",
       "        text-align: right;\n",
       "    }\n",
       "</style>\n",
       "<table border=\"1\" class=\"dataframe\">\n",
       "  <thead>\n",
       "    <tr style=\"text-align: right;\">\n",
       "      <th></th>\n",
       "      <th>title</th>\n",
       "      <th>publication</th>\n",
       "      <th>date</th>\n",
       "      <th>content</th>\n",
       "      <th>cleaned_content</th>\n",
       "      <th>cleaned_title</th>\n",
       "      <th>number_of_words</th>\n",
       "    </tr>\n",
       "  </thead>\n",
       "  <tbody>\n",
       "    <tr>\n",
       "      <th>123614</th>\n",
       "      <td>How have the U.N.’s global goals fared one yea...</td>\n",
       "      <td>reuters</td>\n",
       "      <td>2016-09-21</td>\n",
       "      <td>NEW YORK (Thomson Reuters Foundation) World le...</td>\n",
       "      <td>new york thomson  foundation world leaders one...</td>\n",
       "      <td>how have the uns global goals fared one year on</td>\n",
       "      <td>744</td>\n",
       "    </tr>\n",
       "    <tr>\n",
       "      <th>128006</th>\n",
       "      <td>Hail Caesar is the slapstick comedy about econ...</td>\n",
       "      <td>vox</td>\n",
       "      <td>2016-02-06</td>\n",
       "      <td>Hail, Caesar! is a big, Looney Tunes confectio...</td>\n",
       "      <td>hail caesar is a big looney tunes confection o...</td>\n",
       "      <td>hail caesar is the slapstick comedy about econ...</td>\n",
       "      <td>1606</td>\n",
       "    </tr>\n",
       "    <tr>\n",
       "      <th>40761</th>\n",
       "      <td>LAPD officer Henry Solis sought in killing aft...</td>\n",
       "      <td>cnn</td>\n",
       "      <td>2015-03-20</td>\n",
       "      <td>Los Angeles (CNN) The search for a rookie Los ...</td>\n",
       "      <td>los angeles  the search for a rookie los angel...</td>\n",
       "      <td>lapd officer henry solis sought in killing aft...</td>\n",
       "      <td>449</td>\n",
       "    </tr>\n",
       "    <tr>\n",
       "      <th>89427</th>\n",
       "      <td>As the US economy slows even more, Hillary has...</td>\n",
       "      <td>new york post</td>\n",
       "      <td>2016-07-29</td>\n",
       "      <td>Just hours after Hillary Clinton promised to g...</td>\n",
       "      <td>just hours after hillary clinton promised to g...</td>\n",
       "      <td>as the us economy slows even more hillary has ...</td>\n",
       "      <td>351</td>\n",
       "    </tr>\n",
       "    <tr>\n",
       "      <th>132228</th>\n",
       "      <td>The web of relationships between Team Trump an...</td>\n",
       "      <td>washington post</td>\n",
       "      <td>2017-03-03</td>\n",
       "      <td>In the most abstract sense, there is nothing n...</td>\n",
       "      <td>in the most abstract sense there is nothing no...</td>\n",
       "      <td>the web of relationships between team trump an...</td>\n",
       "      <td>1169</td>\n",
       "    </tr>\n",
       "    <tr>\n",
       "      <th>9790</th>\n",
       "      <td>Buchanan on Syria: McCain, Graham, Rubio Are N...</td>\n",
       "      <td>breitbart</td>\n",
       "      <td>2017-04-10</td>\n",
       "      <td>Monday on Laura Ingraham’s nationally syndicat...</td>\n",
       "      <td>monday on laura ingrahams nationally syndicate...</td>\n",
       "      <td>buchanan on syria mccain graham rubio are not ...</td>\n",
       "      <td>284</td>\n",
       "    </tr>\n",
       "    <tr>\n",
       "      <th>135711</th>\n",
       "      <td>Donald Trump relishes wrecking the GOP</td>\n",
       "      <td>washington post</td>\n",
       "      <td>2016-02-21</td>\n",
       "      <td>Lyndon Johnson simply was exasperated. Barack ...</td>\n",
       "      <td>lyndon johnson simply was exasperated barack o...</td>\n",
       "      <td>donald trump relishes wrecking the gop</td>\n",
       "      <td>843</td>\n",
       "    </tr>\n",
       "    <tr>\n",
       "      <th>5634</th>\n",
       "      <td>‘We Still Have a Lot of People Dying’ - The Ne...</td>\n",
       "      <td>new york times</td>\n",
       "      <td>2016-08-02</td>\n",
       "      <td>BALTIMORE — I first met Brandon Scott the day ...</td>\n",
       "      <td>baltimore i first met brandon scott the day af...</td>\n",
       "      <td>we still have a lot of people dying the</td>\n",
       "      <td>951</td>\n",
       "    </tr>\n",
       "    <tr>\n",
       "      <th>69423</th>\n",
       "      <td>Seattle Man Arrested For Threatening Mosque On...</td>\n",
       "      <td>buzzfeed news</td>\n",
       "      <td>2016-06-16</td>\n",
       "      <td>A man who was arrested in Seattle on Tuesday a...</td>\n",
       "      <td>a man who was arrested in seattle on tuesday a...</td>\n",
       "      <td>seattle man arrested for threatening mosque on...</td>\n",
       "      <td>352</td>\n",
       "    </tr>\n",
       "    <tr>\n",
       "      <th>53714</th>\n",
       "      <td>The Singular Experience of the Queer Latin Nig...</td>\n",
       "      <td>atlantic</td>\n",
       "      <td>2016-06-17</td>\n",
       "      <td>I want to receive updates from partners and sp...</td>\n",
       "      <td>i want to receive updates from partners and sp...</td>\n",
       "      <td>the singular experience of the queer latin nig...</td>\n",
       "      <td>1749</td>\n",
       "    </tr>\n",
       "  </tbody>\n",
       "</table>\n",
       "</div>"
      ],
      "text/plain": [
       "                                                    title      publication  \\\n",
       "123614  How have the U.N.’s global goals fared one yea...          reuters   \n",
       "128006  Hail Caesar is the slapstick comedy about econ...              vox   \n",
       "40761   LAPD officer Henry Solis sought in killing aft...              cnn   \n",
       "89427   As the US economy slows even more, Hillary has...    new york post   \n",
       "132228  The web of relationships between Team Trump an...  washington post   \n",
       "9790    Buchanan on Syria: McCain, Graham, Rubio Are N...        breitbart   \n",
       "135711             Donald Trump relishes wrecking the GOP  washington post   \n",
       "5634    ‘We Still Have a Lot of People Dying’ - The Ne...   new york times   \n",
       "69423   Seattle Man Arrested For Threatening Mosque On...    buzzfeed news   \n",
       "53714   The Singular Experience of the Queer Latin Nig...         atlantic   \n",
       "\n",
       "             date                                            content  \\\n",
       "123614 2016-09-21  NEW YORK (Thomson Reuters Foundation) World le...   \n",
       "128006 2016-02-06  Hail, Caesar! is a big, Looney Tunes confectio...   \n",
       "40761  2015-03-20  Los Angeles (CNN) The search for a rookie Los ...   \n",
       "89427  2016-07-29  Just hours after Hillary Clinton promised to g...   \n",
       "132228 2017-03-03  In the most abstract sense, there is nothing n...   \n",
       "9790   2017-04-10  Monday on Laura Ingraham’s nationally syndicat...   \n",
       "135711 2016-02-21  Lyndon Johnson simply was exasperated. Barack ...   \n",
       "5634   2016-08-02  BALTIMORE — I first met Brandon Scott the day ...   \n",
       "69423  2016-06-16  A man who was arrested in Seattle on Tuesday a...   \n",
       "53714  2016-06-17  I want to receive updates from partners and sp...   \n",
       "\n",
       "                                          cleaned_content  \\\n",
       "123614  new york thomson  foundation world leaders one...   \n",
       "128006  hail caesar is a big looney tunes confection o...   \n",
       "40761   los angeles  the search for a rookie los angel...   \n",
       "89427   just hours after hillary clinton promised to g...   \n",
       "132228  in the most abstract sense there is nothing no...   \n",
       "9790    monday on laura ingrahams nationally syndicate...   \n",
       "135711  lyndon johnson simply was exasperated barack o...   \n",
       "5634    baltimore i first met brandon scott the day af...   \n",
       "69423   a man who was arrested in seattle on tuesday a...   \n",
       "53714   i want to receive updates from partners and sp...   \n",
       "\n",
       "                                            cleaned_title  number_of_words  \n",
       "123614    how have the uns global goals fared one year on              744  \n",
       "128006  hail caesar is the slapstick comedy about econ...             1606  \n",
       "40761   lapd officer henry solis sought in killing aft...              449  \n",
       "89427   as the us economy slows even more hillary has ...              351  \n",
       "132228  the web of relationships between team trump an...             1169  \n",
       "9790    buchanan on syria mccain graham rubio are not ...              284  \n",
       "135711             donald trump relishes wrecking the gop              843  \n",
       "5634              we still have a lot of people dying the              951  \n",
       "69423   seattle man arrested for threatening mosque on...              352  \n",
       "53714   the singular experience of the queer latin nig...             1749  "
      ]
     },
     "execution_count": 25,
     "metadata": {},
     "output_type": "execute_result"
    }
   ],
   "source": [
    "articles.sample(10)"
   ]
  },
  {
   "cell_type": "markdown",
   "metadata": {},
   "source": [
    "#### Most Common Words - Stop Words"
   ]
  },
  {
   "cell_type": "code",
   "execution_count": 27,
   "metadata": {},
   "outputs": [
    {
     "data": {
      "text/plain": [
       "the     5910798\n",
       "to      2896195\n",
       "of      2611188\n",
       "a       2527765\n",
       "and     2491511\n",
       "in      2088049\n",
       "that    1401109\n",
       "for      977726\n",
       "is       972237\n",
       "on       905002\n",
       "it       714550\n",
       "was      704779\n",
       "he       692127\n",
       "with     685155\n",
       "as       646816\n",
       "said     560939\n",
       "his      512027\n",
       "at       503562\n",
       "i        492651\n",
       "have     485428\n",
       "dtype: int64"
      ]
     },
     "execution_count": 27,
     "metadata": {},
     "output_type": "execute_result"
    }
   ],
   "source": [
    "freq = pd.Series(' '.join(articles[\"cleaned_content\"]).split())\n",
    "freq_wcs = freq.value_counts()\n",
    "freq_wcs[:20]"
   ]
  },
  {
   "cell_type": "markdown",
   "metadata": {},
   "source": [
    "As we can see most common words are stop words, and removing them will have big impact in our ability to understand trends or find similar articles later on."
   ]
  },
  {
   "cell_type": "markdown",
   "metadata": {},
   "source": [
    "#### Uncommon Words"
   ]
  },
  {
   "cell_type": "code",
   "execution_count": 28,
   "metadata": {},
   "outputs": [
    {
     "data": {
      "text/plain": [
       "phaen               1\n",
       "goldweber           1\n",
       "deadstate           1\n",
       "badlandnps          1\n",
       "anique              1\n",
       "aseptically         1\n",
       "malufs              1\n",
       "resurfacer          1\n",
       "chungking           1\n",
       "comunitaria         1\n",
       "rymsza              1\n",
       "bjursta             1\n",
       "cosnervator         1\n",
       "jillys              1\n",
       "aesun               1\n",
       "idv                 1\n",
       "zeynab              1\n",
       "campillos           1\n",
       "zapolsky            1\n",
       "mistakeembracing    1\n",
       "dtype: int64"
      ]
     },
     "execution_count": 28,
     "metadata": {},
     "output_type": "execute_result"
    }
   ],
   "source": [
    "freq_wcs[-20:]"
   ]
  },
  {
   "cell_type": "markdown",
   "metadata": {},
   "source": [
    "We can some of the words are very uncommon words and some have accents, andmight need dictionary for a lookup."
   ]
  },
  {
   "cell_type": "markdown",
   "metadata": {},
   "source": [
    "## 3. Save pre-processed dataset"
   ]
  },
  {
   "cell_type": "code",
   "execution_count": 29,
   "metadata": {},
   "outputs": [],
   "source": [
    "# Save the cleaned data frame\n",
    "articles.drop(columns=[\"number_of_words\"], inplace=True)\n",
    "articles.to_csv(ROOT_PATH.joinpath(f\"data/cleaned_data/tokenize_ready_articles.csv\"), index=False)"
   ]
  }
 ],
 "metadata": {
  "kernelspec": {
   "display_name": "Python 3",
   "language": "python",
   "name": "python3"
  },
  "language_info": {
   "codemirror_mode": {
    "name": "ipython",
    "version": 3
   },
   "file_extension": ".py",
   "mimetype": "text/x-python",
   "name": "python",
   "nbconvert_exporter": "python",
   "pygments_lexer": "ipython3",
   "version": "3.8.5"
  }
 },
 "nbformat": 4,
 "nbformat_minor": 4
}
